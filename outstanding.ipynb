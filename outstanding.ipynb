{
 "cells": [
  {
   "cell_type": "code",
   "execution_count": 50,
   "metadata": {},
   "outputs": [],
   "source": [
    "tickets = [\n",
    "  {\n",
    "    \"id\": 1234,\n",
    "    \"violation_type\": \"Overtime Parking\",\n",
    "    \"issue_date_utc\": \"2021-01-01 12:22:05\",\n",
    "    \"feeincents\": 2500,\n",
    "    \"amountpaid\": 1000,\n",
    "    \"lpn\": \"lars\"\n",
    "  },\n",
    "  {\n",
    "    \"id\": 4312,\n",
    "    \"violation_type\": \"Parking on Curb\",\n",
    "    \"issue_date_utc\": \"2021-01-09 23:45:02\",\n",
    "    \"feeincents\": 500,\n",
    "    \"amountpaid\": 0,\n",
    "    \"lpn\": \"lars\"\n",
    "  },\n",
    "  {\n",
    "    \"id\": 8765,\n",
    "    \"violation_type\": \"Overtime Parking\",\n",
    "    \"issue_date_utc\": \"2020-12-10 23:45:02\",\n",
    "    \"feeincents\": 3500,\n",
    "    \"amountpaid\": 0,\n",
    "    \"lpn\": \"passpo\"\n",
    "  },\n",
    "  {\n",
    "    \"id\": 8271,\n",
    "    \"violation_type\": \"Handicap\",\n",
    "    \"issue_date_utc\": \"2021-01-29 23:45:02\",\n",
    "    \"feeincents\": 10000,\n",
    "    \"amountpaid\": 9000,\n",
    "    \"lpn\": \"lars\"\n",
    "  },\n",
    "  {\n",
    "    \"id\": 8730,\n",
    "    \"violation_type\": \"Meter Violation\",\n",
    "    \"issue_date_utc\": \"2020-12-10 23:45:02\",\n",
    "    \"feeincents\": 1500,\n",
    "    \"amountpaid\": 0,\n",
    "    \"lpn\": \"passpo\"\n",
    "  },\n",
    "  {\n",
    "    \"id\": 8572,\n",
    "    \"violation_type\": \"Parking on Curb\",\n",
    "    \"issue_date_utc\": \"2021-02-01 23:45:02\",\n",
    "    \"feeincents\": 6500,\n",
    "    \"amountpaid\": 0,\n",
    "    \"lpn\": \"ethan\"\n",
    "  },\n",
    "  {\n",
    "    \"id\": 9183,\n",
    "    \"violation_type\": \"Parking on Curb\",\n",
    "    \"issue_date_utc\": \"2021-01-30 23:45:02\",\n",
    "    \"feeincents\": 300,\n",
    "    \"amountpaid\": 0,\n",
    "    \"lpn\": \"lars\"\n",
    "  },\n",
    "  {\n",
    "    \"id\": 5827,\n",
    "    \"violation_type\": \"Parking on Curb\",\n",
    "    \"issue_date_utc\": \"2021-01-10 23:45:02\",\n",
    "    \"feeincents\": 300,\n",
    "    \"amountpaid\": 0,\n",
    "    \"lpn\": \"passpo\"\n",
    "  },\n",
    "  {\n",
    "    \"id\": 4563,\n",
    "    \"violation_type\": \"Parking on Curb\",\n",
    "    \"issue_date_utc\": \"2021-01-22 23:45:02\",\n",
    "    \"feeincents\": 300,\n",
    "    \"amountpaid\": 300,\n",
    "    \"lpn\": \"passpo\"\n",
    "  }\n",
    "]\n",
    "\n",
    "outstanding_list = [i[\"lpn\"] for i in tickets if i[\"feeincents\"] - i[\"amountpaid\"] > 50]"
   ]
  },
  {
   "cell_type": "code",
   "execution_count": 62,
   "metadata": {},
   "outputs": [
    {
     "data": {
      "text/plain": [
       "{1234: {1500, 'lars'},\n",
       " 4312: {500, 'lars'},\n",
       " 8765: {3500, 'passpo'},\n",
       " 8271: {1000, 'lars'},\n",
       " 8730: {1500, 'passpo'},\n",
       " 8572: {6500, 'ethan'},\n",
       " 9183: {300, 'lars'},\n",
       " 5827: {300, 'passpo'},\n",
       " 4563: {0, 'passpo'}}"
      ]
     },
     "execution_count": 62,
     "metadata": {},
     "output_type": "execute_result"
    }
   ],
   "source": [
    "from datetime import datetime\n",
    "\n",
    "open_ticket_list = [i[\"lpn\"] for i in tickets if (datetime.now() - datetime.strptime(i[\"issue_date_utc\"], '%Y-%m-%d %H:%M:%S')).days > 3]\n",
    "\n",
    "# open_ticket = dict((i, open_ticket_list.count(i)) for i in set(open_ticket_list))\n",
    "open_ticket = dict((i['id'], {i['lpn'], i['feeincents'] - i['amountpaid']}) for i in tickets)\n",
    "\n",
    "open_ticket"
   ]
  },
  {
   "cell_type": "code",
   "execution_count": 40,
   "metadata": {},
   "outputs": [
    {
     "data": {
      "text/plain": [
       "[{1500, 'lars'},\n",
       " {500, 'lars'},\n",
       " {3500, 'passpo'},\n",
       " {1000, 'lars'},\n",
       " {1500, 'passpo'},\n",
       " {6500, 'ethan'},\n",
       " {300, 'lars'},\n",
       " {300, 'passpo'},\n",
       " {0, 'passpo'}]"
      ]
     },
     "execution_count": 40,
     "metadata": {},
     "output_type": "execute_result"
    }
   ],
   "source": [
    "def scofflaw_list(list):\n",
    "  outstanding_items = []\n",
    "  for item in list:\n",
    "    #create a list of all lpns and their outstanding amounts \n",
    "    item_dict = dict(item['lpn'], item['feeincents'] - item['amountpaid'])\n",
    "    outstanding_items.append(item_dict)\n",
    "  # for item in outstanding_items:\n",
    "  #   outstanding_dict = dict(())\n",
    "  return outstanding_items\n",
    "  #loop through list \n",
    "  #aggregate the amount of each ticket by lpn\n",
    "\n",
    "  #create list of lpns that have an outstanding \n",
    "\n",
    "# outstanding_list = dict((i['lpn'],i['feeincents'] - i['amountpaid']) for i in tickets)\n",
    "scofflaw_list(tickets)\n"
   ]
  }
 ],
 "metadata": {
  "interpreter": {
   "hash": "709cf9bd8e8a658ecf14b382a8a0c4bbe1606382da96dc9b2e9b81561c3db50b"
  },
  "kernelspec": {
   "display_name": "Python 3.8.8 64-bit ('base': conda)",
   "language": "python",
   "name": "python3"
  },
  "language_info": {
   "codemirror_mode": {
    "name": "ipython",
    "version": 3
   },
   "file_extension": ".py",
   "mimetype": "text/x-python",
   "name": "python",
   "nbconvert_exporter": "python",
   "pygments_lexer": "ipython3",
   "version": "3.8.8"
  },
  "orig_nbformat": 4
 },
 "nbformat": 4,
 "nbformat_minor": 2
}
